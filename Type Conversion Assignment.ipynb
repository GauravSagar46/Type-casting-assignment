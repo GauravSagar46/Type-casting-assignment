{
 "cells": [
  {
   "cell_type": "code",
   "execution_count": 1,
   "id": "d62416a3-6286-48ea-b32e-38680dc573cd",
   "metadata": {},
   "outputs": [],
   "source": [
    "#Q-1. Convert an integer to a floating-point number."
   ]
  },
  {
   "cell_type": "code",
   "execution_count": 2,
   "id": "49514c21-a53d-4aeb-b8cf-6baf88079568",
   "metadata": {},
   "outputs": [],
   "source": [
    "a = 3"
   ]
  },
  {
   "cell_type": "code",
   "execution_count": 3,
   "id": "46623161-773b-40d9-b188-ecd82f898a12",
   "metadata": {},
   "outputs": [
    {
     "data": {
      "text/plain": [
       "int"
      ]
     },
     "execution_count": 3,
     "metadata": {},
     "output_type": "execute_result"
    }
   ],
   "source": [
    "type(a)"
   ]
  },
  {
   "cell_type": "code",
   "execution_count": 4,
   "id": "68e0e55d-5ac0-4c3d-b10d-8eab1fa5ed34",
   "metadata": {},
   "outputs": [
    {
     "data": {
      "text/plain": [
       "3.0"
      ]
     },
     "execution_count": 4,
     "metadata": {},
     "output_type": "execute_result"
    }
   ],
   "source": [
    "float(a)"
   ]
  },
  {
   "cell_type": "code",
   "execution_count": 5,
   "id": "d3d6dc17-5622-4939-83cb-98b350ddea11",
   "metadata": {},
   "outputs": [],
   "source": [
    "#Q-2. Convert a float to an integer"
   ]
  },
  {
   "cell_type": "code",
   "execution_count": null,
   "id": "999b2f52-005a-49e7-ac95-dbb796ab1cb5",
   "metadata": {},
   "outputs": [],
   "source": [
    "b = 3.14"
   ]
  },
  {
   "cell_type": "code",
   "execution_count": 7,
   "id": "f402aadf-6235-4ef4-9f02-5616fec39c87",
   "metadata": {},
   "outputs": [
    {
     "data": {
      "text/plain": [
       "float"
      ]
     },
     "execution_count": 7,
     "metadata": {},
     "output_type": "execute_result"
    }
   ],
   "source": [
    "type(b)"
   ]
  },
  {
   "cell_type": "code",
   "execution_count": 8,
   "id": "a1c2714a-0dea-4d9a-85b8-7c5b3a460404",
   "metadata": {},
   "outputs": [
    {
     "data": {
      "text/plain": [
       "3"
      ]
     },
     "execution_count": 8,
     "metadata": {},
     "output_type": "execute_result"
    }
   ],
   "source": [
    "int(b)"
   ]
  },
  {
   "cell_type": "code",
   "execution_count": 9,
   "id": "f7c497e1-8b9e-4ca0-8df0-5e5905003d1b",
   "metadata": {},
   "outputs": [],
   "source": [
    "#Q-3. Convert an integer to a string"
   ]
  },
  {
   "cell_type": "code",
   "execution_count": 10,
   "id": "27e33081-3184-41dc-8a78-ffba07df9018",
   "metadata": {},
   "outputs": [],
   "source": [
    "c = 46"
   ]
  },
  {
   "cell_type": "code",
   "execution_count": 11,
   "id": "46bbd95b-20f2-4050-9160-f3eb419c6eec",
   "metadata": {},
   "outputs": [
    {
     "data": {
      "text/plain": [
       "int"
      ]
     },
     "execution_count": 11,
     "metadata": {},
     "output_type": "execute_result"
    }
   ],
   "source": [
    "type(c)"
   ]
  },
  {
   "cell_type": "code",
   "execution_count": 12,
   "id": "b3460cb4-28c9-44ac-9963-3cb01ad937e9",
   "metadata": {},
   "outputs": [
    {
     "data": {
      "text/plain": [
       "'46'"
      ]
     },
     "execution_count": 12,
     "metadata": {},
     "output_type": "execute_result"
    }
   ],
   "source": [
    "str(c)"
   ]
  },
  {
   "cell_type": "code",
   "execution_count": 13,
   "id": "f27f22d1-a4b8-4035-a194-732f87b01e43",
   "metadata": {},
   "outputs": [],
   "source": [
    "#Q-4. Convert a list to a tuple"
   ]
  },
  {
   "cell_type": "code",
   "execution_count": 14,
   "id": "2bb66cba-c73f-4fdb-b02a-157522433e3c",
   "metadata": {},
   "outputs": [],
   "source": [
    "L = [1, 2, 3, \"gaurav\", \"pw\"]"
   ]
  },
  {
   "cell_type": "code",
   "execution_count": 15,
   "id": "5c141395-352c-419c-b41f-6b3f8d43e2cb",
   "metadata": {},
   "outputs": [],
   "source": [
    "t = tuple(L)"
   ]
  },
  {
   "cell_type": "code",
   "execution_count": 16,
   "id": "5fd98d6c-c4e8-41ad-9c63-dc78a0c65d73",
   "metadata": {},
   "outputs": [
    {
     "name": "stdout",
     "output_type": "stream",
     "text": [
      "(1, 2, 3, 'gaurav', 'pw')\n"
     ]
    }
   ],
   "source": [
    "print(t)"
   ]
  },
  {
   "cell_type": "code",
   "execution_count": 17,
   "id": "91d7ff1e-6e52-4e3d-b8f5-7807bcb59f3a",
   "metadata": {},
   "outputs": [],
   "source": [
    "#Q-5. Convert a tuple to a list"
   ]
  },
  {
   "cell_type": "code",
   "execution_count": 18,
   "id": "5428708c-52f3-4426-80de-b610c61d7a89",
   "metadata": {},
   "outputs": [],
   "source": [
    "t = (4, 5, 6, \"sagar\")"
   ]
  },
  {
   "cell_type": "code",
   "execution_count": 19,
   "id": "c7108c9b-4104-42bd-b2d2-dcff2d7a8b88",
   "metadata": {},
   "outputs": [],
   "source": [
    "l = list(t)"
   ]
  },
  {
   "cell_type": "code",
   "execution_count": 26,
   "id": "43cf3edc-edd3-468d-8f98-1d02929650a7",
   "metadata": {},
   "outputs": [
    {
     "name": "stdout",
     "output_type": "stream",
     "text": [
      "[4, 5, 6, 'sagar']\n"
     ]
    }
   ],
   "source": [
    "print(l)"
   ]
  },
  {
   "cell_type": "code",
   "execution_count": null,
   "id": "97636e02-bda2-4f43-adb7-5dfdf1b41466",
   "metadata": {},
   "outputs": [],
   "source": []
  }
 ],
 "metadata": {
  "kernelspec": {
   "display_name": "Python 3 (ipykernel)",
   "language": "python",
   "name": "python3"
  },
  "language_info": {
   "codemirror_mode": {
    "name": "ipython",
    "version": 3
   },
   "file_extension": ".py",
   "mimetype": "text/x-python",
   "name": "python",
   "nbconvert_exporter": "python",
   "pygments_lexer": "ipython3",
   "version": "3.10.8"
  }
 },
 "nbformat": 4,
 "nbformat_minor": 5
}

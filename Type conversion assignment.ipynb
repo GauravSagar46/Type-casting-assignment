{
 "cells": [
  {
   "cell_type": "code",
   "execution_count": 1,
   "id": "0e0b6084-52c6-4f27-a87c-42cca46b56ee",
   "metadata": {},
   "outputs": [],
   "source": [
    "#Q.1 Convert a integer to a floating-point number"
   ]
  },
  {
   "cell_type": "code",
   "execution_count": 2,
   "id": "69c81e60-c6a3-4323-81f5-ec52e5d084c8",
   "metadata": {},
   "outputs": [],
   "source": [
    "a = 4"
   ]
  },
  {
   "cell_type": "code",
   "execution_count": 3,
   "id": "2af88347-b61b-465c-a137-106aa211dae9",
   "metadata": {},
   "outputs": [
    {
     "data": {
      "text/plain": [
       "int"
      ]
     },
     "execution_count": 3,
     "metadata": {},
     "output_type": "execute_result"
    }
   ],
   "source": [
    "type(a)"
   ]
  },
  {
   "cell_type": "code",
   "execution_count": 4,
   "id": "024c02ce-918f-494f-8e28-69a319b50b42",
   "metadata": {},
   "outputs": [
    {
     "data": {
      "text/plain": [
       "4.0"
      ]
     },
     "execution_count": 4,
     "metadata": {},
     "output_type": "execute_result"
    }
   ],
   "source": [
    "float(a)"
   ]
  },
  {
   "cell_type": "code",
   "execution_count": 5,
   "id": "ffc8bf67-f577-496a-8645-02c70b511c0d",
   "metadata": {},
   "outputs": [],
   "source": [
    "#Q.2 Convert a float to an integer"
   ]
  },
  {
   "cell_type": "code",
   "execution_count": 6,
   "id": "c905238d-51d5-46eb-bea9-f83fb512ed27",
   "metadata": {},
   "outputs": [],
   "source": [
    "b = 4.6"
   ]
  },
  {
   "cell_type": "code",
   "execution_count": 7,
   "id": "bb228339-ce3a-4798-bd87-ce4235660b68",
   "metadata": {},
   "outputs": [
    {
     "data": {
      "text/plain": [
       "float"
      ]
     },
     "execution_count": 7,
     "metadata": {},
     "output_type": "execute_result"
    }
   ],
   "source": [
    "type(b)"
   ]
  },
  {
   "cell_type": "code",
   "execution_count": 8,
   "id": "b41d9338-1acf-44cc-bd5f-b12162f68973",
   "metadata": {},
   "outputs": [
    {
     "data": {
      "text/plain": [
       "4"
      ]
     },
     "execution_count": 8,
     "metadata": {},
     "output_type": "execute_result"
    }
   ],
   "source": [
    "int(b)"
   ]
  },
  {
   "cell_type": "code",
   "execution_count": 9,
   "id": "cd2678a8-89ff-4e13-8549-e961bda7c424",
   "metadata": {},
   "outputs": [],
   "source": [
    "#Q.3 Convert an integer to a string"
   ]
  },
  {
   "cell_type": "code",
   "execution_count": 10,
   "id": "f14d3bb6-32d3-4670-b610-5574cd3ba8d9",
   "metadata": {},
   "outputs": [],
   "source": [
    "c = 89"
   ]
  },
  {
   "cell_type": "code",
   "execution_count": 11,
   "id": "db71ab64-1725-4037-9726-aa70089d8165",
   "metadata": {},
   "outputs": [
    {
     "data": {
      "text/plain": [
       "int"
      ]
     },
     "execution_count": 11,
     "metadata": {},
     "output_type": "execute_result"
    }
   ],
   "source": [
    "type(c)"
   ]
  },
  {
   "cell_type": "code",
   "execution_count": 12,
   "id": "9cf80774-22ae-4bf5-8289-4e0c5479952d",
   "metadata": {},
   "outputs": [
    {
     "data": {
      "text/plain": [
       "'89'"
      ]
     },
     "execution_count": 12,
     "metadata": {},
     "output_type": "execute_result"
    }
   ],
   "source": [
    "str(c)"
   ]
  },
  {
   "cell_type": "code",
   "execution_count": 13,
   "id": "5ee30cfd-71eb-4448-b746-9487dacd29d0",
   "metadata": {},
   "outputs": [],
   "source": [
    "#Q.4 Convert a list to a tuple"
   ]
  },
  {
   "cell_type": "code",
   "execution_count": 14,
   "id": "400bb908-226c-4a5a-a1d5-3b14e6a0a038",
   "metadata": {},
   "outputs": [],
   "source": [
    "list_cont = [1, 2, 3, \"gaurav\", \"pwskills\"]"
   ]
  },
  {
   "cell_type": "code",
   "execution_count": 15,
   "id": "15cdb4a5-92c6-413e-8cf4-ac6e4acabdb5",
   "metadata": {},
   "outputs": [
    {
     "data": {
      "text/plain": [
       "list"
      ]
     },
     "execution_count": 15,
     "metadata": {},
     "output_type": "execute_result"
    }
   ],
   "source": [
    "type(list_cont)"
   ]
  },
  {
   "cell_type": "code",
   "execution_count": 16,
   "id": "80897a37-3d9e-4691-9467-d70be7c429c4",
   "metadata": {},
   "outputs": [
    {
     "data": {
      "text/plain": [
       "(1, 2, 3, 'gaurav', 'pwskills')"
      ]
     },
     "execution_count": 16,
     "metadata": {},
     "output_type": "execute_result"
    }
   ],
   "source": [
    "tuple(list_cont)"
   ]
  },
  {
   "cell_type": "code",
   "execution_count": 17,
   "id": "fd4cef32-a514-4e5b-a250-9674a3fc247f",
   "metadata": {},
   "outputs": [],
   "source": [
    "#Q.5 Convert a tuple to a list"
   ]
  },
  {
   "cell_type": "code",
   "execution_count": 18,
   "id": "93c94ccf-b132-4e14-8a10-28afbf829d33",
   "metadata": {},
   "outputs": [],
   "source": [
    "d = (4, 5, 6, 'sagar', 3+5j)"
   ]
  },
  {
   "cell_type": "code",
   "execution_count": 19,
   "id": "06467186-8d30-4a0e-af56-fc54deb034a0",
   "metadata": {},
   "outputs": [
    {
     "data": {
      "text/plain": [
       "tuple"
      ]
     },
     "execution_count": 19,
     "metadata": {},
     "output_type": "execute_result"
    }
   ],
   "source": [
    "type(d)"
   ]
  },
  {
   "cell_type": "code",
   "execution_count": 20,
   "id": "7e3ba630-6e21-4dcb-afc2-cf643ef294be",
   "metadata": {},
   "outputs": [
    {
     "data": {
      "text/plain": [
       "[4, 5, 6, 'sagar', (3+5j)]"
      ]
     },
     "execution_count": 20,
     "metadata": {},
     "output_type": "execute_result"
    }
   ],
   "source": [
    "list(d)"
   ]
  },
  {
   "cell_type": "code",
   "execution_count": 21,
   "id": "d7289a55-5ac0-4a04-b144-1b4d4577e82b",
   "metadata": {},
   "outputs": [],
   "source": [
    "#Q.6 Convert a decimal number to binary"
   ]
  },
  {
   "cell_type": "code",
   "execution_count": 22,
   "id": "d81425a7-c761-448c-a261-17e1498af99b",
   "metadata": {},
   "outputs": [],
   "source": [
    "e = 27%4"
   ]
  },
  {
   "cell_type": "code",
   "execution_count": 23,
   "id": "bd25ba2c-fc6e-4f6d-8bc5-71546d1fa41c",
   "metadata": {},
   "outputs": [
    {
     "data": {
      "text/plain": [
       "3"
      ]
     },
     "execution_count": 23,
     "metadata": {},
     "output_type": "execute_result"
    }
   ],
   "source": [
    "e"
   ]
  },
  {
   "cell_type": "code",
   "execution_count": 24,
   "id": "5f39ed52-1721-4bfe-9dfe-87c8051cffba",
   "metadata": {},
   "outputs": [
    {
     "data": {
      "text/plain": [
       "'0b11'"
      ]
     },
     "execution_count": 24,
     "metadata": {},
     "output_type": "execute_result"
    }
   ],
   "source": [
    "bin(3)"
   ]
  },
  {
   "cell_type": "code",
   "execution_count": 25,
   "id": "16a4a98c-ebae-41c8-97c2-8cb05251cb84",
   "metadata": {},
   "outputs": [],
   "source": [
    "#Q.7 Convert a non-zero number to boolean"
   ]
  },
  {
   "cell_type": "code",
   "execution_count": 26,
   "id": "b7eddc06-47d1-4c7d-9ef3-167d025680b1",
   "metadata": {},
   "outputs": [],
   "source": [
    "f = 22"
   ]
  },
  {
   "cell_type": "code",
   "execution_count": 27,
   "id": "fcb23a37-7543-4e21-9fd9-6acb149ee507",
   "metadata": {},
   "outputs": [],
   "source": [
    "g = bool(f)"
   ]
  },
  {
   "cell_type": "code",
   "execution_count": 28,
   "id": "60ba875d-a5ac-45fd-aaad-ba7260dc16e0",
   "metadata": {},
   "outputs": [
    {
     "data": {
      "text/plain": [
       "bool"
      ]
     },
     "execution_count": 28,
     "metadata": {},
     "output_type": "execute_result"
    }
   ],
   "source": [
    "type(g)"
   ]
  },
  {
   "cell_type": "code",
   "execution_count": 29,
   "id": "0738c4b6-603b-4373-b3cc-3d5762c0eaae",
   "metadata": {},
   "outputs": [
    {
     "data": {
      "text/plain": [
       "True"
      ]
     },
     "execution_count": 29,
     "metadata": {},
     "output_type": "execute_result"
    }
   ],
   "source": [
    "g"
   ]
  },
  {
   "cell_type": "code",
   "execution_count": null,
   "id": "cfdc5561-ce48-415c-bcdb-85975f7b8629",
   "metadata": {},
   "outputs": [],
   "source": []
  }
 ],
 "metadata": {
  "kernelspec": {
   "display_name": "Python 3 (ipykernel)",
   "language": "python",
   "name": "python3"
  },
  "language_info": {
   "codemirror_mode": {
    "name": "ipython",
    "version": 3
   },
   "file_extension": ".py",
   "mimetype": "text/x-python",
   "name": "python",
   "nbconvert_exporter": "python",
   "pygments_lexer": "ipython3",
   "version": "3.10.8"
  }
 },
 "nbformat": 4,
 "nbformat_minor": 5
}
